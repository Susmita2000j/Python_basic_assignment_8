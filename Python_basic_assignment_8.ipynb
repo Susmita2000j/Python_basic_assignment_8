{
 "cells": [
  {
   "cell_type": "markdown",
   "id": "3c004414",
   "metadata": {},
   "source": [
    "1. Is the Python Standard Library included with PyInputPlus?"
   ]
  },
  {
   "cell_type": "code",
   "execution_count": null,
   "id": "2618d829",
   "metadata": {},
   "outputs": [],
   "source": [
    "=> No, PyInputPlus is not a part of Python Standard Library, \n",
    "it needs to be installed explicitly using the command !pip install PyInputPlus"
   ]
  },
  {
   "cell_type": "markdown",
   "id": "d0a69dcc",
   "metadata": {},
   "source": [
    "2. Why is PyInputPlus commonly imported with import pyinputplus as pypi?"
   ]
  },
  {
   "cell_type": "code",
   "execution_count": null,
   "id": "fdb69eb5",
   "metadata": {},
   "outputs": [],
   "source": [
    "=>You can import the module with import pyinputplus as pyip so that you can call\n",
    "  a shorter name when calling the module's functions."
   ]
  },
  {
   "cell_type": "markdown",
   "id": "865c8866",
   "metadata": {},
   "source": [
    "3. How do you distinguish between inputInt() and inputFloat()?"
   ]
  },
  {
   "cell_type": "code",
   "execution_count": null,
   "id": "478d7ec3",
   "metadata": {},
   "outputs": [],
   "source": [
    "=>inputInt() function Accepts an integer value And it always returns an int.\n",
    "Whereas inputFloat() function Accepts a floating-point numeric value and always returns a float."
   ]
  },
  {
   "cell_type": "markdown",
   "id": "1afb5f11",
   "metadata": {},
   "source": [
    "4.Using PyInputPlus, how do you ensure that the user enters a whole number between 0 and 99?"
   ]
  },
  {
   "cell_type": "code",
   "execution_count": 6,
   "id": "bc594324",
   "metadata": {},
   "outputs": [
    {
     "name": "stdout",
     "output_type": "stream",
     "text": [
      "Requirement already satisfied: pyinputplus in c:\\users\\susmita\\.anaconda3\\lib\\site-packages (0.2.12)\n",
      "Requirement already satisfied: stdiomask>=0.0.3 in c:\\users\\susmita\\.anaconda3\\lib\\site-packages (from pyinputplus) (0.0.6)\n",
      "Requirement already satisfied: pysimplevalidate>=0.2.7 in c:\\users\\susmita\\.anaconda3\\lib\\site-packages (from pyinputplus) (0.2.12)\n"
     ]
    }
   ],
   "source": [
    "!pip install pyinputplus"
   ]
  },
  {
   "cell_type": "code",
   "execution_count": 8,
   "id": "a4838151",
   "metadata": {},
   "outputs": [
    {
     "name": "stdout",
     "output_type": "stream",
     "text": [
      "Enter a number: 25.2\n",
      "'25.2' is not an integer.\n",
      "Enter a number: 29\n",
      "29\n"
     ]
    }
   ],
   "source": [
    "import pyinputplus as pyip\n",
    "number = pyip.inputInt(prompt='Enter a number: ', min=0, max=100)\n",
    "print(number)"
   ]
  }
 ],
 "metadata": {
  "kernelspec": {
   "display_name": "Python 3 (ipykernel)",
   "language": "python",
   "name": "python3"
  },
  "language_info": {
   "codemirror_mode": {
    "name": "ipython",
    "version": 3
   },
   "file_extension": ".py",
   "mimetype": "text/x-python",
   "name": "python",
   "nbconvert_exporter": "python",
   "pygments_lexer": "ipython3",
   "version": "3.10.9"
  }
 },
 "nbformat": 4,
 "nbformat_minor": 5
}
